{
 "cells": [
  {
   "cell_type": "code",
   "execution_count": 4,
   "metadata": {},
   "outputs": [
    {
     "ename": "IndexError",
     "evalue": "list index out of range",
     "output_type": "error",
     "traceback": [
      "\u001b[1;31m---------------------------------------------------------------------------\u001b[0m",
      "\u001b[1;31mIndexError\u001b[0m                                Traceback (most recent call last)",
      "Cell \u001b[1;32mIn[4], line 54\u001b[0m\n\u001b[0;32m     52\u001b[0m \u001b[38;5;28;01mfor\u001b[39;00m i \u001b[38;5;129;01min\u001b[39;00m \u001b[38;5;28mrange\u001b[39m(\u001b[38;5;241m1\u001b[39m, \u001b[38;5;241m41\u001b[39m):\n\u001b[0;32m     53\u001b[0m     url \u001b[38;5;241m=\u001b[39m url_ori \u001b[38;5;241m+\u001b[39m \u001b[38;5;28mstr\u001b[39m(i)\u001b[38;5;241m.\u001b[39mzfill(\u001b[38;5;241m2\u001b[39m)\n\u001b[1;32m---> 54\u001b[0m     \u001b[43mmakeJson\u001b[49m\u001b[43m(\u001b[49m\u001b[43murl\u001b[49m\u001b[38;5;241;43m=\u001b[39;49m\u001b[43murl\u001b[49m\u001b[43m)\u001b[49m\n\u001b[0;32m     56\u001b[0m \u001b[38;5;66;03m# makeJson(url='https://www.jiyu.co.jp/singo/index.php?eid=00040')\u001b[39;00m\n",
      "Cell \u001b[1;32mIn[4], line 33\u001b[0m, in \u001b[0;36mmakeJson\u001b[1;34m(url)\u001b[0m\n\u001b[0;32m     30\u001b[0m     awards[\u001b[38;5;124m\"\u001b[39m\u001b[38;5;124mawards\u001b[39m\u001b[38;5;124m\"\u001b[39m]\u001b[38;5;241m.\u001b[39mappend(award)\n\u001b[0;32m     32\u001b[0m nominnees \u001b[38;5;241m=\u001b[39m soup\u001b[38;5;241m.\u001b[39mfind_all(\u001b[38;5;124m'\u001b[39m\u001b[38;5;124mul\u001b[39m\u001b[38;5;124m'\u001b[39m, class_\u001b[38;5;241m=\u001b[39m\u001b[38;5;124m'\u001b[39m\u001b[38;5;124mnominee\u001b[39m\u001b[38;5;124m'\u001b[39m)\n\u001b[1;32m---> 33\u001b[0m nominnees \u001b[38;5;241m=\u001b[39m \u001b[43mnominnees\u001b[49m\u001b[43m[\u001b[49m\u001b[38;5;241;43m0\u001b[39;49m\u001b[43m]\u001b[49m\u001b[38;5;241m.\u001b[39mfind_all(\u001b[38;5;124m'\u001b[39m\u001b[38;5;124mli\u001b[39m\u001b[38;5;124m'\u001b[39m)\n\u001b[0;32m     34\u001b[0m \u001b[38;5;28;01mif\u001b[39;00m (\u001b[38;5;28mlen\u001b[39m(nominnees) \u001b[38;5;241m>\u001b[39m \u001b[38;5;241m0\u001b[39m):\n\u001b[0;32m     35\u001b[0m     awards[\u001b[38;5;124m\"\u001b[39m\u001b[38;5;124mnominees\u001b[39m\u001b[38;5;124m\"\u001b[39m] \u001b[38;5;241m=\u001b[39m []\n",
      "\u001b[1;31mIndexError\u001b[0m: list index out of range"
     ]
    }
   ],
   "source": [
    "import requests\n",
    "from bs4 import BeautifulSoup\n",
    "import json\n",
    "import re\n",
    "\n",
    "###--- 流行語大賞のワードをユーキャンのホームページから取得して、jsonに保存する\n",
    "def makeJson (url):\n",
    "    # URL of the webpage to scrape\n",
    "    # url = \"https://www.jiyu.co.jp/singo/index.php?eid=00001\";\n",
    "\n",
    "    # Send a GET request to the webpage\n",
    "    response = requests.get(url)\n",
    "\n",
    "    # Check if the request was successful\n",
    "    if response.status_code == 200:\n",
    "        # Parse the HTML content of the webpage\n",
    "        soup = BeautifulSoup(response.content, \"html.parser\")\n",
    "        \n",
    "        year = soup.find('h2', class_='h2').text\n",
    "        \n",
    "        awardentrys = soup.find_all('div', class_='awardentry')\n",
    "        awards = {\"year\":year, \"awards\":[]}\n",
    "        \n",
    "        for awardentry in awardentrys:\n",
    "            award = {}\n",
    "            award[\"award\"] = awardentry.select('div.label')[0].text\n",
    "            award[\"ward\"] = awardentry.select('h3')[0].text\n",
    "            award[\"winner\"] = awardentry.select('span.winner')[0].text\n",
    "            award[\"text\"] = str(awardentry.select('p.p')[0].text).replace(\"\\n\", \"\");\n",
    "            awards[\"awards\"].append(award)\n",
    "\n",
    "        nominnees = soup.find_all('ul', class_='nominee')\n",
    "        if (len(nominnees) > 0):\n",
    "            nominnees = nominnees[0].find_all('li')\n",
    "            awards[\"nominees\"] = []\n",
    "            for li in nominnees:\n",
    "                awards[\"nominees\"].append(li.select('em')[0].text)\n",
    "        \n",
    "        print(awards)\n",
    "        with open('data/' + re.search(r'\\d{4}', year)[0] + '.json', 'w', encoding='UTF-8') as file: # 第二引数：writableオプションを指定\n",
    "            json.dump(awards, file, indent=2, ensure_ascii=False)\n",
    "    else:\n",
    "        print(\"Failed to retrieve the webpage\")\n",
    "\n",
    "    response.close()\n",
    "    \n",
    "\n",
    "###--- main\n",
    "\n",
    "url_ori = 'https://www.jiyu.co.jp/singo/index.php?eid=000';\n",
    "\n",
    "for i in range(1, 41):\n",
    "    url = url_ori + str(i).zfill(2)\n",
    "    makeJson(url=url)\n",
    "\n",
    "# makeJson(url='https://www.jiyu.co.jp/singo/index.php?eid=00040')"
   ]
  }
 ],
 "metadata": {
  "kernelspec": {
   "display_name": "Python 3",
   "language": "python",
   "name": "python3"
  },
  "language_info": {
   "codemirror_mode": {
    "name": "ipython",
    "version": 3
   },
   "file_extension": ".py",
   "mimetype": "text/x-python",
   "name": "python",
   "nbconvert_exporter": "python",
   "pygments_lexer": "ipython3",
   "version": "3.11.1"
  }
 },
 "nbformat": 4,
 "nbformat_minor": 2
}
